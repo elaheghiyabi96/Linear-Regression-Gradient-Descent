{
 "cells": [
  {
   "cell_type": "code",
   "execution_count": 9,
   "metadata": {},
   "outputs": [
    {
     "name": "stdout",
     "output_type": "stream",
     "text": [
      "Iteration 0: Cost 24.212854538099293\n",
      "Iteration 100: Cost 0.9401655326632247\n",
      "Iteration 200: Cost 0.5603941862667565\n",
      "Iteration 300: Cost 0.5387583579221095\n",
      "Iteration 400: Cost 0.5269813296436021\n",
      "Iteration 500: Cost 0.518507918070901\n",
      "Iteration 600: Cost 0.5123691770250907\n",
      "Iteration 700: Cost 0.5079211828234921\n",
      "Iteration 800: Cost 0.5046982558327222\n",
      "Iteration 900: Cost 0.5023629877083285\n"
     ]
    },
    {
     "data": {
      "image/png": "[encoded data removed]",
      "text/plain": [
       "<Figure size 432x288 with 1 Axes>"
      ]
     },
     "metadata": {
      "needs_background": "light"
     },
     "output_type": "display_data"
    }
   ],
   "source": [
    "import numpy as np\n",
    "import matplotlib.pyplot as plt\n",
    "# Set seed for reproducibility\n",
    "np.random.seed(0)\n",
    "# Generate synthetic data\n",
    "X = 2 * np.random.rand(100, 1)\n",
    "Y = 4 + 3 * X + np.random.randn(100, 1)\n",
    "\n",
    "# Plot the data\n",
    "plt.scatter(X, Y, color='orange', label='Data')\n",
    "plt.xlabel('X')\n",
    "plt.ylabel('Y')\n",
    "plt.title('Linear Regression')\n",
    "plt.legend()\n",
    "\n",
    "# Initialize parameters\n",
    "w = 0.1  # Weight (slope)\n",
    "b = 0.1  # Bias (intercept)\n",
    "learning_rate = 0.01\n",
    "iterations = 1000\n",
    "# Gradient descent\n",
    "for i in range(iterations):\n",
    "    predictions = w * X + b\n",
    "    # Compute gradients\n",
    "    dw = (1 / len(X)) * np.sum((predictions - Y) * X)  # Gradient with respect to w\n",
    "    db = (1 / len(X)) * np.sum(predictions - Y)        # Gradient with respect to b\n",
    "    \n",
    "    # Update parameters\n",
    "    w -= learning_rate * dw\n",
    "    b -= learning_rate * db\n",
    "  \n",
    "    # Compute cost function\n",
    "    m = len(X)\n",
    "    predictions = w * X + b\n",
    "    cost = (1 / (2 * m)) * np.sum((predictions - Y) ** 2)  # Mean Squared Error (MSE)\n",
    "    \n",
    "    # Print cost every 100 iterations\n",
    "    if i % 100 == 0:\n",
    "        print(f\"Iteration {i}: Cost {cost}\")\n",
    "    \n",
    "# Compute final linear regression line\n",
    "y = w * X + b\n",
    "\n",
    "# Plot regression line\n",
    "plt.plot(X, y, label='Fitted Line', color='b')\n",
    "plt.legend()\n",
    "plt.show()\n",
    "\n"
   ]
  },
  {
   "cell_type": "code",
   "execution_count": null,
   "metadata": {},
   "outputs": [],
   "source": []
  },
  {
   "cell_type": "code",
   "execution_count": null,
   "metadata": {},
   "outputs": [],
   "source": []
  }
 ],
 "metadata": {
  "kernelspec": {
   "display_name": "Python 3",
   "language": "python",
   "name": "python3"
  },
  "language_info": {
   "codemirror_mode": {
    "name": "ipython",
    "version": 3
   },
   "file_extension": ".py",
   "mimetype": "text/x-python",
   "name": "python",
   "nbconvert_exporter": "python",
   "pygments_lexer": "ipython3",
   "version": "3.7.6"
  }
 },
 "nbformat": 4,
 "nbformat_minor": 4
}
